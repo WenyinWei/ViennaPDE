{
 "cells": [
  {
   "cell_type": "code",
   "execution_count": null,
   "metadata": {
    "scrolled": false
   },
   "outputs": [],
   "source": [
    "!pip install chart_studio"
   ]
  },
  {
   "cell_type": "code",
   "execution_count": null,
   "metadata": {},
   "outputs": [],
   "source": [
    "!pip install numpy"
   ]
  },
  {
   "cell_type": "code",
   "execution_count": null,
   "metadata": {},
   "outputs": [],
   "source": [
    "!pip install scipy"
   ]
  },
  {
   "cell_type": "code",
   "execution_count": null,
   "metadata": {},
   "outputs": [],
   "source": [
    "!pip install pandas"
   ]
  },
  {
   "cell_type": "code",
   "execution_count": null,
   "metadata": {},
   "outputs": [],
   "source": [
    "%load_ext autoreload\n",
    "%autoreload 2"
   ]
  },
  {
   "cell_type": "code",
   "execution_count": null,
   "metadata": {},
   "outputs": [],
   "source": [
    "import pandas as pd\n",
    "import numpy as np\n",
    "import scipy as sp\n",
    "import chart_studio.plotly as py\n",
    "import ipywidgets"
   ]
  },
  {
   "cell_type": "code",
   "execution_count": null,
   "metadata": {
    "scrolled": true
   },
   "outputs": [],
   "source": [
    "%matplotlib inline\n",
    "\n",
    "import matplotlib.pyplot as plt\n",
    "import csv\n",
    "import ipywidgets\n",
    "import os\n",
    "\n",
    "data_path_dir = '../data/scheme/'\n",
    "schemes_dir = [data_path_dir + file + '/'for file in os.listdir(data_path_dir)]\n",
    "data_path_init = '../data/scheme/WENO_LaxFriedrichs/'\n",
    "filenames = [file.split(\".\")[0] for file in os.listdir(data_path_init)]\n",
    "filenames = [float(file) for file in filenames]\n",
    "\n",
    "def f(t=0, data_path=data_path_init):\n",
    "    x=[]\n",
    "    y=[]\n",
    "    n=0\n",
    "    dx=0.1\n",
    "\n",
    "    with open(data_path+ str(t)+'.csv', 'r') as csvfile:\n",
    "        [plots]= csv.reader(csvfile, delimiter=',')\n",
    "        y = [float(cell) for cell in plots]\n",
    "        x = [i for i in range(len(y))]\n",
    "        \n",
    "#     with open(data_path+ 'u_neg/'+str(t)+'.csv', 'r') as csvfile:\n",
    "#         [plots]= csv.reader(csvfile, delimiter=',')\n",
    "#         y_neg = [float(cell) for cell in plots]\n",
    "        \n",
    "#     with open(data_path+ 'u_pos/'+str(t)+'.csv', 'r') as csvfile:\n",
    "#         [plots]= csv.reader(csvfile, delimiter=',')\n",
    "#         y_pos = [float(cell) for cell in plots]\n",
    "#     print(\"Max value: \" + str(max(y)))\n",
    "#     print(\"Min value: \" + str(min(y)))\n",
    "    fig = plt.figure()\n",
    "    axes = fig.add_axes([0.1, 0.1, 1, 1])\n",
    "    axes.set_xlim(0, max(x))\n",
    "    axes.set_ylim(-1/3, 1)\n",
    "    axes.plot(x, y, 'c--')\n",
    "#     plt.plot(x, y_pos, 'c>')\n",
    "#     plt.plot(x, y_neg, 'g<')\n",
    "    plt.title('Data of Burger Equation $u_t + uu_x=0$')\n",
    "    plt.xlabel('Relative x')\n",
    "    plt.ylabel('u(x)')\n",
    "    plt.show()\n",
    "    return\n",
    "\n",
    "ipywidgets.interactive(f, t = (0, int(max(filenames)),1), data_path = schemes_dir)"
   ]
  },
  {
   "cell_type": "code",
   "execution_count": null,
   "metadata": {},
   "outputs": [],
   "source": []
  }
 ],
 "metadata": {
  "kernelspec": {
   "display_name": "Python 3",
   "language": "python",
   "name": "python3"
  },
  "language_info": {
   "codemirror_mode": {
    "name": "ipython",
    "version": 3
   },
   "file_extension": ".py",
   "mimetype": "text/x-python",
   "name": "python",
   "nbconvert_exporter": "python",
   "pygments_lexer": "ipython3",
   "version": "3.7.5"
  }
 },
 "nbformat": 4,
 "nbformat_minor": 2
}
