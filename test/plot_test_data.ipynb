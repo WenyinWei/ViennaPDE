{
 "cells": [
  {
   "cell_type": "code",
   "execution_count": null,
   "metadata": {
    "scrolled": false
   },
   "outputs": [],
   "source": [
    "!pip install chart_studio"
   ]
  },
  {
   "cell_type": "code",
   "execution_count": null,
   "metadata": {},
   "outputs": [],
   "source": [
    "!pip install numpy"
   ]
  },
  {
   "cell_type": "code",
   "execution_count": null,
   "metadata": {},
   "outputs": [],
   "source": [
    "!pip install scipy"
   ]
  },
  {
   "cell_type": "code",
   "execution_count": null,
   "metadata": {},
   "outputs": [],
   "source": [
    "!pip install pandas"
   ]
  },
  {
   "cell_type": "code",
   "execution_count": null,
   "metadata": {},
   "outputs": [],
   "source": [
    "%load_ext autoreload\n",
    "%autoreload 2"
   ]
  },
  {
   "cell_type": "code",
   "execution_count": null,
   "metadata": {},
   "outputs": [],
   "source": [
    "import pandas as pd\n",
    "import numpy as np\n",
    "import scipy as sp\n",
    "import chart_studio.plotly as py\n",
    "import ipywidgets"
   ]
  },
  {
   "cell_type": "code",
   "execution_count": null,
   "metadata": {},
   "outputs": [],
   "source": [
    "%matplotlib inline\n",
    "\n",
    "import matplotlib.pyplot as plt\n",
    "import csv\n",
    "\n",
    "\n",
    "def f(t=0, data_path='../data/scheme/Godunov_RK3order/'):\n",
    "    x=[]\n",
    "    y=[]\n",
    "    n=0\n",
    "    dx=0.1\n",
    "\n",
    "    with open(data_path+ str(t)+'.csv', 'r') as csvfile:\n",
    "        [plots]= csv.reader(csvfile, delimiter=',')\n",
    "        y = [float(cell) for cell in plots]\n",
    "        x = [i for i in range(len(y))]\n",
    "        \n",
    "    plt.plot(x,y, marker='o')\n",
    "    plt.title('Data of Burger Equation $u_t + uu_x=0$')\n",
    "    plt.xlabel('Relative x')\n",
    "    plt.ylabel('u(x)')\n",
    "    plt.show()\n",
    "    return\n",
    "\n",
    "ipywidgets.interactive(f, t = (0, 300,1))"
   ]
  }
 ],
 "metadata": {
  "kernelspec": {
   "display_name": "Python 3",
   "language": "python",
   "name": "python3"
  },
  "language_info": {
   "codemirror_mode": {
    "name": "ipython",
    "version": 3
   },
   "file_extension": ".py",
   "mimetype": "text/x-python",
   "name": "python",
   "nbconvert_exporter": "python",
   "pygments_lexer": "ipython3",
   "version": "3.7.5"
  }
 },
 "nbformat": 4,
 "nbformat_minor": 2
}
